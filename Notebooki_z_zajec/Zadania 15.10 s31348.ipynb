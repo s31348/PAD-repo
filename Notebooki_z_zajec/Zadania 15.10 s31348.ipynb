{
 "cells": [
  {
   "cell_type": "code",
   "execution_count": 7,
   "metadata": {},
   "outputs": [
    {
     "name": "stdout",
     "output_type": "stream",
     "text": [
      "Tetranacci(10) = 56\n"
     ]
    }
   ],
   "source": [
    "'''\n",
    "Zadanie 1 (4 pkt)\n",
    "Wykorzystując dekoratory, napisz cache dla funkcji tetranacci z poprzedniego zadania.\n",
    "Ten dekorator powinien zapobiegać przed ponownym obliczaniem tych samych wartości.\n",
    "'''\n",
    "def tetranacci_cache(fn):\n",
    "    cache = {}\n",
    "\n",
    "    def wrapper(steps):\n",
    "        if steps in cache:\n",
    "            return cache[steps]\n",
    "        result = fn(steps)\n",
    "        cache[steps] = result\n",
    "        return result\n",
    "\n",
    "    return wrapper\n",
    "\n",
    "@tetranacci_cache\n",
    "def tetranacci_func(n):\n",
    "    if n in (0, 1, 2):\n",
    "        return 0\n",
    "    elif n == 3:\n",
    "        return 1\n",
    "    else:\n",
    "        return tetranacci_func(n - 1) + tetranacci_func(n - 2) + tetranacci_func(n - 3) + tetranacci_func(n - 4)\n",
    "\n",
    "num = 10\n",
    "test = tetranacci_func(num)\n",
    "print(f\"Tetranacci({num}) = {test}\")\n"
   ]
  },
  {
   "cell_type": "code",
   "execution_count": 2,
   "metadata": {},
   "outputs": [],
   "source": [
    "'''\n",
    "Zadanie 2 (4 pkt)\n",
    "Zaimplementuj własny generator o nazwie repeat, zwracający obiekt podany przez użytkownika dokładnie N razy.\n",
    "Jeśli wartość parametru N nie została określona, generator powinien zwracać wartości w nieskończoność.\n",
    "\n",
    "PRZYKŁAD\n",
    "repeat(10, 3) → 10 10 10\n",
    "repeat(10, 5) → 10 10 10 10 10\n",
    "repeat(5) → 5 5 5 5 5 5 5 5 5 5 5 5 5 5 5…\n",
    "repeat(5, None) → 5 5 5 5 5 5 5 5 5 5 5 5 5 5 5…\n",
    "'''\n",
    "def repeat(value, n=None):\n",
    "    if n is None:\n",
    "        while True:\n",
    "            yield value\n",
    "    else:\n",
    "        for _ in range(n):\n",
    "            yield value\n"
   ]
  },
  {
   "cell_type": "code",
   "execution_count": 3,
   "metadata": {},
   "outputs": [
    {
     "name": "stdout",
     "output_type": "stream",
     "text": [
      "biały\n"
     ]
    }
   ],
   "source": [
    "'''\n",
    "Zadanie 3 (1 pkt)\n",
    "W kodzie z zajęć w klasie Pojazd utwórz atrybut, który niezależnie od utworzonego obiektu będzie miał taką samą wartość.\n",
    "każdy obiekt ma mieć kolor biały\n",
    "'''\n",
    "class Pojazd:\n",
    "    kolor = 'biały'\n",
    "    def __init__(self, predkosc_max, przebieg):\n",
    "        self.predkosc_max = predkosc_max\n",
    "        self.przebieg = przebieg\n",
    "\n",
    "    def liczba_miejsc(self, miejsca):\n",
    "        return f'{self.__class__.__name__} pomieści {miejsca} osób.'\n",
    "    \n",
    "\n",
    "class Autobus(Pojazd):\n",
    "    def liczba_miejsc(self, miejsca=50):\n",
    "        return super().liczba_miejsc(miejsca)\n",
    "    \n",
    "print(Pojazd.kolor)"
   ]
  },
  {
   "cell_type": "code",
   "execution_count": 4,
   "metadata": {},
   "outputs": [],
   "source": [
    "'''\n",
    "Zadanie 4 (2 pkt)\n",
    "Wykorzystaj klasy Autobus i Pojazd.\n",
    "Zdefiniuj metodę opłata, k†óra będzie miała wartość domyślną liczba_miejsc * 100\n",
    "Jeżeli Pojazd jest instancją Autobusu, opłata ma zostać powiększona o 10% wartości opłaty początkowej.\n",
    "Np. jeżeli autobus domyślnie ma 50 miejsc to opłata całkowita wyniesie 5500\n",
    "'''\n",
    "class Pojazd:\n",
    "    kolor = 'biały'\n",
    "    def __init__(self, predkosc_max, przebieg):\n",
    "        self.predkosc_max = predkosc_max\n",
    "        self.przebieg = przebieg\n",
    "\n",
    "    def liczba_miejsc(self, miejsca):\n",
    "        return f'{self.__class__.__name__} pomieści {miejsca} osób.'\n",
    "\n",
    "    def opłata(self, miejsca):\n",
    "        return miejsca * 100\n",
    "\n",
    "class Autobus(Pojazd):\n",
    "    def liczba_miejsc(self, miejsca=50):\n",
    "        return super().liczba_miejsc(miejsca)\n",
    "\n",
    "    def opłata(self, miejsca=50):\n",
    "        return super().opłata(miejsca) * 1.1"
   ]
  },
  {
   "cell_type": "code",
   "execution_count": 5,
   "metadata": {},
   "outputs": [
    {
     "name": "stdout",
     "output_type": "stream",
     "text": [
      "Funkcja kwadratowa: 2x^2 + 3x + 1\n",
      "1\n",
      "6\n",
      "Nieskończona liczba rozwiązań\n",
      "Brak rozwiązań\n",
      "Jedno rozwiązanie: x = -1.5\n",
      "Brak rozwiązań\n",
      "Dwa rozwiązania: x1 = 2.0, x2 = 3.0\n",
      "Jedno rozwiązanie: x = -2.0\n"
     ]
    }
   ],
   "source": [
    "'''\n",
    "Zadanie 5 (4 pkt)\n",
    "Napisz klasę FunkcjaKwadratowa, która przechowuje funkcje typu $ax^2$+bx+c.\n",
    "Klasa powinna zawierać trzy pola: a, b, c, które są przypisywane w konstruktorze.\n",
    "Główną metodą powinna być rozwiaz(), która zwraca miejsca zerowe podanej funkcji.\n",
    "Należy zwrócić uwagę na przypadki gdy a=0, b=0 lub c=0,\n",
    "a także obmyślić sposób informowania o nieskończonej liczbie, jednym lub zerze rozwiązań.\n",
    "'''\n",
    "\n",
    "'''\n",
    "początek kodu dla ułatwienia\n",
    "\n",
    "'''\n",
    "import math\n",
    "\n",
    "class FunkcjaKwadratowa:\n",
    "    def __init__(self, a, b, c):\n",
    "        self.a = a\n",
    "        self.b = b\n",
    "        self.c = c\n",
    "\n",
    "    def wypisz(self):\n",
    "        print(f\"Funkcja kwadratowa: {self.a}x^2 + {self.b}x + {self.c}\")\n",
    "\n",
    "    def oblicz_wartosc(self, x):\n",
    "        return self.a * x**2 + self.b * x + self.c\n",
    "\n",
    "    def rozwiaz(self):\n",
    "        a = self.a\n",
    "        b = self.b\n",
    "        c = self.c\n",
    "\n",
    "        if a == 0:\n",
    "            if b == 0:\n",
    "                if c == 0:\n",
    "                    return \"Nieskończona liczba rozwiązań\"\n",
    "                else:\n",
    "                    return \"Brak rozwiązań\"\n",
    "            else:\n",
    "                x = -c / b\n",
    "                return f\"Jedno rozwiązanie: x = {x}\"\n",
    "        else:\n",
    "            delta = b**2 - 4 * a * c\n",
    "            if delta > 0:\n",
    "                x1 = (-b - math.sqrt(delta)) / (2 * a)\n",
    "                x2 = (-b + math.sqrt(delta)) / (2 * a)\n",
    "                return f\"Dwa rozwiązania: x1 = {x1}, x2 = {x2}\"\n",
    "            elif delta == 0:\n",
    "                x = -b / (2 * a)\n",
    "                return f\"Jedno rozwiązanie: x = {x}\"\n",
    "            else:\n",
    "                return \"Brak rozwiązań\"\n",
    "\n",
    "def main():\n",
    "    f1 = FunkcjaKwadratowa(2, 3, 1)\n",
    "    f1.wypisz()\n",
    "    print(f1.oblicz_wartosc(0))\n",
    "    print(f1.oblicz_wartosc(1))\n",
    "\n",
    "    print(FunkcjaKwadratowa(0, 0, 0).rozwiaz())\n",
    "    print(FunkcjaKwadratowa(0, 0, 1).rozwiaz())\n",
    "    print(FunkcjaKwadratowa(0, 2, 3).rozwiaz())\n",
    "    print(FunkcjaKwadratowa(1, 2, 3).rozwiaz())\n",
    "    print(FunkcjaKwadratowa(1, -5, 6).rozwiaz())\n",
    "    print(FunkcjaKwadratowa(1, 4, 4).rozwiaz())\n",
    "\n",
    "\n",
    "if __name__ == \"__main__\":\n",
    "    main()"
   ]
  },
  {
   "cell_type": "code",
   "execution_count": null,
   "metadata": {},
   "outputs": [],
   "source": []
  }
 ],
 "metadata": {
  "kernelspec": {
   "display_name": "Python 3",
   "language": "python",
   "name": "python3"
  },
  "language_info": {
   "codemirror_mode": {
    "name": "ipython",
    "version": 3
   },
   "file_extension": ".py",
   "mimetype": "text/x-python",
   "name": "python",
   "nbconvert_exporter": "python",
   "pygments_lexer": "ipython3",
   "version": "3.9.7"
  },
  "orig_nbformat": 4
 },
 "nbformat": 4,
 "nbformat_minor": 2
}
